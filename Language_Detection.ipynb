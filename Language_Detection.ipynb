{
  "nbformat": 4,
  "nbformat_minor": 0,
  "metadata": {
    "colab": {
      "name": "Language Detection.ipynb",
      "provenance": [],
      "authorship_tag": "ABX9TyMUWgHlhGBV6unHpoXwTy6A",
      "include_colab_link": true
    },
    "kernelspec": {
      "name": "python3",
      "display_name": "Python 3"
    },
    "language_info": {
      "name": "python"
    }
  },
  "cells": [
    {
      "cell_type": "markdown",
      "metadata": {
        "id": "view-in-github",
        "colab_type": "text"
      },
      "source": [
        "<a href=\"https://colab.research.google.com/github/monika393/NLP/blob/main/Language_Detection.ipynb\" target=\"_parent\"><img src=\"https://colab.research.google.com/assets/colab-badge.svg\" alt=\"Open In Colab\"/></a>"
      ]
    },
    {
      "cell_type": "markdown",
      "metadata": {
        "id": "iOo_CGr29iKX"
      },
      "source": [
        "Detect Sentence Language\n",
        "\n",
        "Useful Articles:\n",
        "https://towardsdatascience.com/benchmarking-language-detection-for-nlp-8250ea8b67c\n",
        "https://towardsdatascience.com/4-python-libraries-to-detect-english-and-non-english-language-c82ad3efd430\n"
      ]
    },
    {
      "cell_type": "code",
      "metadata": {
        "colab": {
          "base_uri": "https://localhost:8080/"
        },
        "id": "yeaSVk7nMmLL",
        "outputId": "2e2943b6-fd6e-4945-8e5c-3611691060fe"
      },
      "source": [
        "! pip install fasttext\n",
        "! pip install pycountry\n",
        "!pip  install spacy-langdetect\n",
        "! python -m spacy download en\n",
        "!  pip install langid\n",
        "! pip install langdetect\n",
        "\n",
        "\n"
      ],
      "execution_count": 25,
      "outputs": [
        {
          "output_type": "stream",
          "name": "stdout",
          "text": [
            "Requirement already satisfied: fasttext in /usr/local/lib/python3.7/dist-packages (0.9.2)\n",
            "Requirement already satisfied: pybind11>=2.2 in /usr/local/lib/python3.7/dist-packages (from fasttext) (2.8.0)\n",
            "Requirement already satisfied: numpy in /usr/local/lib/python3.7/dist-packages (from fasttext) (1.19.5)\n",
            "Requirement already satisfied: setuptools>=0.7.0 in /usr/local/lib/python3.7/dist-packages (from fasttext) (58.2.0)\n",
            "\u001b[33mWARNING: Running pip as the 'root' user can result in broken permissions and conflicting behaviour with the system package manager. It is recommended to use a virtual environment instead: https://pip.pypa.io/warnings/venv\u001b[0m\n",
            "Requirement already satisfied: pycountry in /usr/local/lib/python3.7/dist-packages (20.7.3)\n",
            "\u001b[33mWARNING: Running pip as the 'root' user can result in broken permissions and conflicting behaviour with the system package manager. It is recommended to use a virtual environment instead: https://pip.pypa.io/warnings/venv\u001b[0m\n",
            "Requirement already satisfied: spacy-langdetect in /usr/local/lib/python3.7/dist-packages (0.1.2)\n",
            "Requirement already satisfied: pytest in /usr/local/lib/python3.7/dist-packages (from spacy-langdetect) (3.6.4)\n",
            "Requirement already satisfied: langdetect==1.0.7 in /usr/local/lib/python3.7/dist-packages (from spacy-langdetect) (1.0.7)\n",
            "Requirement already satisfied: six in /usr/local/lib/python3.7/dist-packages (from langdetect==1.0.7->spacy-langdetect) (1.15.0)\n",
            "Requirement already satisfied: more-itertools>=4.0.0 in /usr/local/lib/python3.7/dist-packages (from pytest->spacy-langdetect) (8.10.0)\n",
            "Requirement already satisfied: py>=1.5.0 in /usr/local/lib/python3.7/dist-packages (from pytest->spacy-langdetect) (1.10.0)\n",
            "Requirement already satisfied: setuptools in /usr/local/lib/python3.7/dist-packages (from pytest->spacy-langdetect) (58.2.0)\n",
            "Requirement already satisfied: pluggy<0.8,>=0.5 in /usr/local/lib/python3.7/dist-packages (from pytest->spacy-langdetect) (0.7.1)\n",
            "Requirement already satisfied: attrs>=17.4.0 in /usr/local/lib/python3.7/dist-packages (from pytest->spacy-langdetect) (21.2.0)\n",
            "Requirement already satisfied: atomicwrites>=1.0 in /usr/local/lib/python3.7/dist-packages (from pytest->spacy-langdetect) (1.4.0)\n",
            "\u001b[33mWARNING: Running pip as the 'root' user can result in broken permissions and conflicting behaviour with the system package manager. It is recommended to use a virtual environment instead: https://pip.pypa.io/warnings/venv\u001b[0m\n",
            "Collecting en_core_web_sm==2.3.1\n",
            "  Using cached en_core_web_sm-2.3.1-py3-none-any.whl\n",
            "Requirement already satisfied: spacy<2.4.0,>=2.3.0 in /usr/local/lib/python3.7/dist-packages (from en_core_web_sm==2.3.1) (2.3.7)\n",
            "Requirement already satisfied: cymem<2.1.0,>=2.0.2 in /usr/local/lib/python3.7/dist-packages (from spacy<2.4.0,>=2.3.0->en_core_web_sm==2.3.1) (2.0.5)\n",
            "Requirement already satisfied: blis<0.8.0,>=0.4.0 in /usr/local/lib/python3.7/dist-packages (from spacy<2.4.0,>=2.3.0->en_core_web_sm==2.3.1) (0.4.1)\n",
            "Requirement already satisfied: murmurhash<1.1.0,>=0.28.0 in /usr/local/lib/python3.7/dist-packages (from spacy<2.4.0,>=2.3.0->en_core_web_sm==2.3.1) (1.0.5)\n",
            "Requirement already satisfied: wasabi<1.1.0,>=0.4.0 in /usr/local/lib/python3.7/dist-packages (from spacy<2.4.0,>=2.3.0->en_core_web_sm==2.3.1) (0.8.2)\n",
            "Requirement already satisfied: srsly<1.1.0,>=1.0.2 in /usr/local/lib/python3.7/dist-packages (from spacy<2.4.0,>=2.3.0->en_core_web_sm==2.3.1) (1.0.5)\n",
            "Requirement already satisfied: setuptools in /usr/local/lib/python3.7/dist-packages (from spacy<2.4.0,>=2.3.0->en_core_web_sm==2.3.1) (58.2.0)\n",
            "Requirement already satisfied: requests<3.0.0,>=2.13.0 in /usr/local/lib/python3.7/dist-packages (from spacy<2.4.0,>=2.3.0->en_core_web_sm==2.3.1) (2.23.0)\n",
            "Requirement already satisfied: preshed<3.1.0,>=3.0.2 in /usr/local/lib/python3.7/dist-packages (from spacy<2.4.0,>=2.3.0->en_core_web_sm==2.3.1) (3.0.5)\n",
            "Requirement already satisfied: catalogue<1.1.0,>=0.0.7 in /usr/local/lib/python3.7/dist-packages (from spacy<2.4.0,>=2.3.0->en_core_web_sm==2.3.1) (1.0.0)\n",
            "Requirement already satisfied: numpy>=1.15.0 in /usr/local/lib/python3.7/dist-packages (from spacy<2.4.0,>=2.3.0->en_core_web_sm==2.3.1) (1.19.5)\n",
            "Requirement already satisfied: plac<1.2.0,>=0.9.6 in /usr/local/lib/python3.7/dist-packages (from spacy<2.4.0,>=2.3.0->en_core_web_sm==2.3.1) (1.1.3)\n",
            "Requirement already satisfied: tqdm<5.0.0,>=4.38.0 in /usr/local/lib/python3.7/dist-packages (from spacy<2.4.0,>=2.3.0->en_core_web_sm==2.3.1) (4.62.3)\n",
            "Requirement already satisfied: thinc<7.5.0,>=7.4.1 in /usr/local/lib/python3.7/dist-packages (from spacy<2.4.0,>=2.3.0->en_core_web_sm==2.3.1) (7.4.5)\n",
            "Requirement already satisfied: importlib-metadata>=0.20 in /usr/local/lib/python3.7/dist-packages (from catalogue<1.1.0,>=0.0.7->spacy<2.4.0,>=2.3.0->en_core_web_sm==2.3.1) (4.8.1)\n",
            "Requirement already satisfied: zipp>=0.5 in /usr/local/lib/python3.7/dist-packages (from importlib-metadata>=0.20->catalogue<1.1.0,>=0.0.7->spacy<2.4.0,>=2.3.0->en_core_web_sm==2.3.1) (3.6.0)\n",
            "Requirement already satisfied: typing-extensions>=3.6.4 in /usr/local/lib/python3.7/dist-packages (from importlib-metadata>=0.20->catalogue<1.1.0,>=0.0.7->spacy<2.4.0,>=2.3.0->en_core_web_sm==2.3.1) (3.7.4.3)\n",
            "Requirement already satisfied: certifi>=2017.4.17 in /usr/local/lib/python3.7/dist-packages (from requests<3.0.0,>=2.13.0->spacy<2.4.0,>=2.3.0->en_core_web_sm==2.3.1) (2021.5.30)\n",
            "Requirement already satisfied: chardet<4,>=3.0.2 in /usr/local/lib/python3.7/dist-packages (from requests<3.0.0,>=2.13.0->spacy<2.4.0,>=2.3.0->en_core_web_sm==2.3.1) (3.0.4)\n",
            "Requirement already satisfied: idna<3,>=2.5 in /usr/local/lib/python3.7/dist-packages (from requests<3.0.0,>=2.13.0->spacy<2.4.0,>=2.3.0->en_core_web_sm==2.3.1) (2.10)\n",
            "Requirement already satisfied: urllib3!=1.25.0,!=1.25.1,<1.26,>=1.21.1 in /usr/local/lib/python3.7/dist-packages (from requests<3.0.0,>=2.13.0->spacy<2.4.0,>=2.3.0->en_core_web_sm==2.3.1) (1.24.3)\n",
            "\u001b[33mWARNING: Running pip as the 'root' user can result in broken permissions and conflicting behaviour with the system package manager. It is recommended to use a virtual environment instead: https://pip.pypa.io/warnings/venv\u001b[0m\n",
            "\u001b[38;5;2m✔ Download and installation successful\u001b[0m\n",
            "You can now load the model via spacy.load('en_core_web_sm')\n",
            "\u001b[38;5;2m✔ Linking successful\u001b[0m\n",
            "/usr/local/lib/python3.7/dist-packages/en_core_web_sm -->\n",
            "/usr/local/lib/python3.7/dist-packages/spacy/data/en\n",
            "You can now load the model via spacy.load('en')\n",
            "Requirement already satisfied: langid in /usr/local/lib/python3.7/dist-packages (1.1.6)\n",
            "Requirement already satisfied: numpy in /usr/local/lib/python3.7/dist-packages (from langid) (1.19.5)\n",
            "\u001b[33mWARNING: Running pip as the 'root' user can result in broken permissions and conflicting behaviour with the system package manager. It is recommended to use a virtual environment instead: https://pip.pypa.io/warnings/venv\u001b[0m\n",
            "Requirement already satisfied: langdetect in /usr/local/lib/python3.7/dist-packages (1.0.7)\n",
            "Requirement already satisfied: six in /usr/local/lib/python3.7/dist-packages (from langdetect) (1.15.0)\n",
            "\u001b[33mWARNING: Running pip as the 'root' user can result in broken permissions and conflicting behaviour with the system package manager. It is recommended to use a virtual environment instead: https://pip.pypa.io/warnings/venv\u001b[0m\n"
          ]
        }
      ]
    },
    {
      "cell_type": "markdown",
      "metadata": {
        "id": "W_7VAm3uFmt5"
      },
      "source": [
        "Test Data"
      ]
    },
    {
      "cell_type": "code",
      "metadata": {
        "id": "5gAn00KBFpvQ"
      },
      "source": [
        "single_lang_en=\"Its a bright and sunny day.\"\n",
        "multi_lang=\"その明るく晴れた日。Its a bright and sunny day. यह एक उज्ज्वल और धूप वाला दिन है।\"\n",
        "single_lang_hin=\"यह एक उज्ज्वल और धूप वाला दिन है।\"\n",
        "single_lang_jp=\"その明るく晴れた日。\""
      ],
      "execution_count": 1,
      "outputs": []
    },
    {
      "cell_type": "markdown",
      "metadata": {
        "id": "qRdFa3yoGXGS"
      },
      "source": [
        "Using Fast text"
      ]
    },
    {
      "cell_type": "code",
      "metadata": {
        "colab": {
          "base_uri": "https://localhost:8080/"
        },
        "id": "pthh0zcYGV6b",
        "outputId": "f7a13b40-7aa5-468d-a210-8200b16d45bb"
      },
      "source": [
        "! wget -O '/tmp/lid.176.bin' 'https://dl.fbaipublicfiles.com/fasttext/supervised-models/lid.176.bin'\n"
      ],
      "execution_count": 6,
      "outputs": [
        {
          "output_type": "stream",
          "name": "stdout",
          "text": [
            "--2021-10-10 02:49:34--  https://dl.fbaipublicfiles.com/fasttext/supervised-models/lid.176.bin\n",
            "Resolving dl.fbaipublicfiles.com (dl.fbaipublicfiles.com)... 104.22.75.142, 104.22.74.142, 172.67.9.4, ...\n",
            "Connecting to dl.fbaipublicfiles.com (dl.fbaipublicfiles.com)|104.22.75.142|:443... connected.\n",
            "HTTP request sent, awaiting response... 200 OK\n",
            "Length: 131266198 (125M) [application/octet-stream]\n",
            "Saving to: ‘/tmp/lid.176.bin’\n",
            "\n",
            "/tmp/lid.176.bin    100%[===================>] 125.18M  21.1MB/s    in 6.5s    \n",
            "\n",
            "2021-10-10 02:49:42 (19.2 MB/s) - ‘/tmp/lid.176.bin’ saved [131266198/131266198]\n",
            "\n"
          ]
        }
      ]
    },
    {
      "cell_type": "code",
      "metadata": {
        "colab": {
          "base_uri": "https://localhost:8080/"
        },
        "id": "izWShsZZGWPU",
        "outputId": "b1591793-9739-4c52-a8e6-5bad054c4802"
      },
      "source": [
        "import fasttext\n",
        "\n",
        "PRETRAINED_MODEL_PATH = '/tmp/lid.176.bin'\n",
        "model = fasttext.load_model(PRETRAINED_MODEL_PATH)\n",
        "\n",
        "predictions = model.predict(single_lang_en)\n",
        "print(predictions)\n",
        "predictions = model.predict(multi_lang)\n",
        "print(predictions)\n",
        "predictions = model.predict(single_lang_hin)\n",
        "print(predictions)\n",
        "predictions = model.predict(single_lang_jp)\n",
        "print(predictions)"
      ],
      "execution_count": 2,
      "outputs": [
        {
          "output_type": "stream",
          "name": "stdout",
          "text": [
            "(('__label__en',), array([0.98907322]))\n",
            "(('__label__hi',), array([0.92499381]))\n",
            "(('__label__hi',), array([1.00001276]))\n",
            "(('__label__ja',), array([0.99999088]))\n"
          ]
        },
        {
          "output_type": "stream",
          "name": "stderr",
          "text": [
            "Warning : `load_model` does not return WordVectorModel or SupervisedModel any more, but a `FastText` object which is very similar.\n"
          ]
        }
      ]
    },
    {
      "cell_type": "code",
      "metadata": {
        "colab": {
          "base_uri": "https://localhost:8080/"
        },
        "id": "rQiw631TGWTw",
        "outputId": "f67f768d-4057-47de-9059-2fa7a46cad38"
      },
      "source": [
        "from pycountry import languages\n",
        "\n",
        "lang_name = languages.get(alpha_2='hi').name\n",
        "print(lang_name)"
      ],
      "execution_count": 3,
      "outputs": [
        {
          "output_type": "stream",
          "name": "stdout",
          "text": [
            "Hindi\n"
          ]
        }
      ]
    },
    {
      "cell_type": "markdown",
      "metadata": {
        "id": "ObZNfhqtUmGS"
      },
      "source": [
        "Language detection using spacy"
      ]
    },
    {
      "cell_type": "code",
      "metadata": {
        "colab": {
          "base_uri": "https://localhost:8080/"
        },
        "id": "mRKPFRuUNUbe",
        "outputId": "4a4fd2df-49b7-4215-c4fe-aefae33966b5"
      },
      "source": [
        "import spacy\n",
        "from spacy_langdetect import LanguageDetector\n",
        "nlp = spacy.load(\"en\")\n",
        "nlp.add_pipe(LanguageDetector(), name=\"language_detector\", last=True)\n",
        "text = \"This is English text. Er lebt mit seinen Eltern und seiner Schwester in Berlin. Yo me divierto todos los días en el parque. Je m'appelle Angélica Summer, j'ai 12 ans et je suis canadienne.\"\n",
        "doc = nlp(text)\n",
        "# document level language detection. Think of it like average language of document!\n",
        "print(doc._.language)\n",
        "# sentence level language detection\n",
        "for i, sent in enumerate(doc.sents):\n",
        "    print(sent, sent._.language)"
      ],
      "execution_count": 14,
      "outputs": [
        {
          "output_type": "stream",
          "name": "stdout",
          "text": [
            "{'language': 'de', 'score': 0.5714268315616124}\n",
            "This is English text. {'language': 'en', 'score': 0.9999964251063658}\n",
            "Er lebt mit seinen Eltern und seiner Schwester in Berlin. {'language': 'de', 'score': 0.9999968437428562}\n",
            "Yo me divierto todos los días {'language': 'es', 'score': 0.9999962408930645}\n",
            "en el parque. {'language': 'es', 'score': 0.999993722853386}\n",
            "Je m'appelle Angélica Summer, {'language': 'fr', 'score': 0.8571413006072238}\n",
            "j'ai 12 ans et je suis canadienne. {'language': 'fr', 'score': 0.999998758275873}\n"
          ]
        }
      ]
    },
    {
      "cell_type": "code",
      "metadata": {
        "colab": {
          "base_uri": "https://localhost:8080/"
        },
        "id": "169R27fXU7uW",
        "outputId": "7cb409a8-4add-4fc9-ff9b-1ce785995fbe"
      },
      "source": [
        "doc = nlp(single_lang_en)\n",
        "print(doc._.language)\n",
        "doc = nlp(multi_lang)\n",
        "print(doc._.language)\n",
        "doc = nlp(single_lang_hin)\n",
        "print(doc._.language)\n",
        "doc = nlp(single_lang_jp)\n",
        "print(doc._.language)"
      ],
      "execution_count": 15,
      "outputs": [
        {
          "output_type": "stream",
          "name": "stdout",
          "text": [
            "{'language': 'en', 'score': 0.9999963324009354}\n",
            "{'language': 'hi', 'score': 0.8571396695764562}\n",
            "{'language': 'hi', 'score': 0.9999980524648513}\n",
            "{'language': 'ja', 'score': 0.9999997869664208}\n"
          ]
        }
      ]
    },
    {
      "cell_type": "markdown",
      "metadata": {
        "id": "VFLuJ5UfVUqJ"
      },
      "source": [
        "Using Langid\n",
        "\n"
      ]
    },
    {
      "cell_type": "code",
      "metadata": {
        "colab": {
          "base_uri": "https://localhost:8080/"
        },
        "id": "LuT6U8WSWRMd",
        "outputId": "7a24c7bf-7fce-4212-9167-bdac9f518612"
      },
      "source": [
        "import langid\n",
        "print(langid.classify(\"I do not speak english\"))\n",
        "\n",
        "from langid.langid import LanguageIdentifier, model\n",
        "lang_identifier = LanguageIdentifier.from_modelstring(model, norm_probs=True)\n",
        "lang_identifier.classify(\"I do not speak english\")"
      ],
      "execution_count": 21,
      "outputs": [
        {
          "output_type": "stream",
          "name": "stdout",
          "text": [
            "('en', -48.10464572906494)\n"
          ]
        },
        {
          "output_type": "execute_result",
          "data": {
            "text/plain": [
              "('en', 0.5713348767990067)"
            ]
          },
          "metadata": {},
          "execution_count": 21
        }
      ]
    },
    {
      "cell_type": "code",
      "metadata": {
        "colab": {
          "base_uri": "https://localhost:8080/"
        },
        "id": "gbnwmJjRWWM_",
        "outputId": "2fe0a137-e94c-46c3-b7e3-e640aae66503"
      },
      "source": [
        "prediction =lang_identifier.classify(single_lang_en)\n",
        "print(prediction)\n",
        "prediction =lang_identifier.classify(multi_lang)\n",
        "print(prediction)\n",
        "prediction =lang_identifier.classify(single_lang_hin)\n",
        "print(prediction)\n",
        "prediction =lang_identifier.classify(single_lang_jp)\n",
        "print(prediction)"
      ],
      "execution_count": 24,
      "outputs": [
        {
          "output_type": "stream",
          "name": "stdout",
          "text": [
            "('en', 0.9999999992756239)\n",
            "('ja', 1.0)\n",
            "('hi', 0.9818153304203167)\n",
            "('ja', 1.0)\n"
          ]
        }
      ]
    },
    {
      "cell_type": "markdown",
      "metadata": {
        "id": "fMU-K_6rXpAl"
      },
      "source": [
        "Using Lang detect\n",
        "https://pypi.org/project/langdetect/\n"
      ]
    },
    {
      "cell_type": "code",
      "metadata": {
        "colab": {
          "base_uri": "https://localhost:8080/"
        },
        "id": "Fj2-64oXXvXd",
        "outputId": "a207eb19-3384-4b1e-b03a-0fa0b2bd3e7a"
      },
      "source": [
        "from langdetect import detect\n",
        "print(detect(single_lang_en))\n",
        "print(detect(multi_lang))\n",
        "print(detect(single_lang_hin))\n",
        "print(detect(single_lang_jp))"
      ],
      "execution_count": 27,
      "outputs": [
        {
          "output_type": "stream",
          "name": "stdout",
          "text": [
            "en\n",
            "hi\n",
            "hi\n",
            "ja\n"
          ]
        }
      ]
    },
    {
      "cell_type": "code",
      "metadata": {
        "colab": {
          "base_uri": "https://localhost:8080/"
        },
        "id": "SEQ0uRW5YLpn",
        "outputId": "55f3b682-de1d-47a0-cc53-6489cab7620e"
      },
      "source": [
        "from langdetect import detect_langs\n",
        "from langdetect import DetectorFactory\n",
        "\n",
        "DetectorFactory.seed = 13567\n",
        "\n",
        "print(detect_langs(multi_lang))"
      ],
      "execution_count": 57,
      "outputs": [
        {
          "output_type": "stream",
          "name": "stdout",
          "text": [
            "[hi:0.7142837948741666, en:0.1428571650084851, ja:0.14285713423705157]\n"
          ]
        }
      ]
    }
  ]
}